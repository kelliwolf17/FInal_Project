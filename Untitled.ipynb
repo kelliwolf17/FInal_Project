{
 "cells": [
  {
   "cell_type": "code",
   "execution_count": null,
   "id": "unknown-afghanistan",
   "metadata": {},
   "outputs": [],
   "source": [
    "# Import our dependencies\n",
    "import pandas as pd\n",
    "import numpy as np\n",
    "import seaborn as sns\n",
    "import matplotlib.pyplot as plt\n",
    "\n",
    "from sklearn.model_selection import train_test_split\n",
    "from sklearn.preprocessing import StandardScaler\n",
    "from sklearn.ensemble import RandomForestClassifier\n",
    "from sklearn.metrics import accuracy_score\n",
    "from sklearn.preprocessing import OneHotEncoder\n",
    "\n",
    "%matplotlib inline\n",
    "\n",
    "from sklearn.linear_model import LogisticRegression\n",
    "from sklearn.metrics import accuracy_score"
   ]
  },
  {
   "cell_type": "code",
   "execution_count": null,
   "id": "israeli-entry",
   "metadata": {},
   "outputs": [],
   "source": [
    "pip install mysql-connector-python"
   ]
  },
  {
   "cell_type": "code",
   "execution_count": null,
   "id": "eligible-subject",
   "metadata": {},
   "outputs": [],
   "source": [
    "import config as cnf\n",
    "import mysql.connector\n",
    "\n",
    "mydb = mysql.connector.connect(\n",
    "  host=\"final-project.cdjfmodwzyq7.us-east-2.rds.amazonaws.com\",\n",
    "  user=cnf.USERNAME,\n",
    "  password=cnf.PW,\n",
    "  database=\"final_project\"\n",
    ")\n",
    "\n",
    "mycursor = mydb.cursor()\n",
    "\n",
    "mycursor.execute(\"SELECT * FROM clean_diabetes\")\n",
    "\n",
    "\n",
    "\n",
    "#myresult = mycursor.fetchall()\n",
    "diabetes_df = pd.DataFrame(mycursor.fetchall())\n",
    "diabetes_df.columns = [x[0] for x in mycursor.description]\n",
    "diabetes_df"
   ]
  },
  {
   "cell_type": "code",
   "execution_count": null,
   "id": "greatest-estonia",
   "metadata": {},
   "outputs": [],
   "source": [
    "mycursor.execute(\"Select cg.State, t1.`Restaurant_Total`, cg.Total AS `Gym_Total` from clean_gym cg join (Select province, count(*) AS `Restaurant_Total` from clean_restaurant cr group by 1) t1 on cg.State = t1.province group by 1\")\n",
    "restaurant_gym_df = pd.DataFrame(mycursor.fetchall())\n",
    "restaurant_gym_df.columns = [x[0] for x in mycursor.description]\n",
    "restaurant_gym_df"
   ]
  },
  {
   "cell_type": "code",
   "execution_count": null,
   "id": "worldwide-proxy",
   "metadata": {},
   "outputs": [],
   "source": [
    "diabetes_df.info()"
   ]
  },
  {
   "cell_type": "code",
   "execution_count": null,
   "id": "certain-impact",
   "metadata": {},
   "outputs": [],
   "source": [
    "# finding correlation between each oof the risk factors\n",
    "correlation = diabetes_df.corr()\n",
    "correlation"
   ]
  },
  {
   "cell_type": "code",
   "execution_count": null,
   "id": "primary-therapy",
   "metadata": {},
   "outputs": [],
   "source": [
    "# visualizing the correlations\n",
    "plt.figure(figsize=(10,10))\n",
    "sns.heatmap(diabetes_df.corr(), annot=True)"
   ]
  },
  {
   "cell_type": "code",
   "execution_count": null,
   "id": "digital-inspiration",
   "metadata": {},
   "outputs": [],
   "source": [
    "diabetes_df.shape"
   ]
  },
  {
   "cell_type": "code",
   "execution_count": null,
   "id": "comparable-kitchen",
   "metadata": {},
   "outputs": [],
   "source": [
    "y = diabetes_df[\"Outcome\"]\n",
    "X = diabetes_df.drop(columns=\"Outcome\")"
   ]
  },
  {
   "cell_type": "code",
   "execution_count": null,
   "id": "pleased-circuit",
   "metadata": {},
   "outputs": [],
   "source": [
    "from sklearn.model_selection import train_test_split\n",
    "\n",
    "X_train, X_test, y_train, y_test = train_test_split(X, \n",
    "                                                    y, \n",
    "                                                    random_state=1, \n",
    "                                                    stratify=y)\n",
    "X_train.shape"
   ]
  },
  {
   "cell_type": "code",
   "execution_count": null,
   "id": "pleasant-sculpture",
   "metadata": {},
   "outputs": [],
   "source": [
    "from sklearn.linear_model import LogisticRegression\n",
    "classifier = LogisticRegression(solver='lbfgs',\n",
    "                                max_iter=200,\n",
    "                                random_state=1)"
   ]
  },
  {
   "cell_type": "code",
   "execution_count": null,
   "id": "vocational-attribute",
   "metadata": {},
   "outputs": [],
   "source": [
    "classifier.fit(X_train, y_train)"
   ]
  },
  {
   "cell_type": "code",
   "execution_count": null,
   "id": "driving-convergence",
   "metadata": {},
   "outputs": [],
   "source": [
    "y_pred = classifier.predict(X_test)\n",
    "results = pd.DataFrame({\"Prediction\": y_pred, \"Actual\": y_test}).reset_index(drop=True)\n",
    "results"
   ]
  },
  {
   "cell_type": "code",
   "execution_count": null,
   "id": "angry-tribute",
   "metadata": {},
   "outputs": [],
   "source": []
  }
 ],
 "metadata": {
  "kernelspec": {
   "display_name": "Python 3",
   "language": "python",
   "name": "python3"
  }
 },
 "nbformat": 4,
 "nbformat_minor": 5
}
